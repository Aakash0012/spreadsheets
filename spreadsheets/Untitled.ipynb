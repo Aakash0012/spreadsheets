{
 "cells": [
  {
   "cell_type": "code",
   "execution_count": 1,
   "id": "93301bd8",
   "metadata": {},
   "outputs": [
    {
     "name": "stdout",
     "output_type": "stream",
     "text": [
      "Collecting gspread\n",
      "  Downloading gspread-5.1.1-py3-none-any.whl (31 kB)\n",
      "Collecting google-auth-oauthlib>=0.4.1\n",
      "  Downloading google_auth_oauthlib-0.4.6-py2.py3-none-any.whl (18 kB)\n",
      "Requirement already satisfied: google-auth>=1.12.0 in c:\\users\\pc\\appdata\\local\\programs\\python\\python310\\lib\\site-packages (from gspread) (2.6.0)\n",
      "Requirement already satisfied: pyasn1-modules>=0.2.1 in c:\\users\\pc\\appdata\\local\\programs\\python\\python310\\lib\\site-packages (from google-auth>=1.12.0->gspread) (0.2.8)\n",
      "Requirement already satisfied: cachetools<6.0,>=2.0.0 in c:\\users\\pc\\appdata\\local\\programs\\python\\python310\\lib\\site-packages (from google-auth>=1.12.0->gspread) (5.0.0)\n",
      "Requirement already satisfied: six>=1.9.0 in c:\\users\\pc\\appdata\\local\\programs\\python\\python310\\lib\\site-packages (from google-auth>=1.12.0->gspread) (1.16.0)\n",
      "Requirement already satisfied: rsa<5,>=3.1.4 in c:\\users\\pc\\appdata\\local\\programs\\python\\python310\\lib\\site-packages (from google-auth>=1.12.0->gspread) (4.8)\n",
      "Collecting requests-oauthlib>=0.7.0\n",
      "  Downloading requests_oauthlib-1.3.1-py2.py3-none-any.whl (23 kB)\n",
      "Requirement already satisfied: pyasn1<0.5.0,>=0.4.6 in c:\\users\\pc\\appdata\\local\\programs\\python\\python310\\lib\\site-packages (from pyasn1-modules>=0.2.1->google-auth>=1.12.0->gspread) (0.4.8)\n",
      "Requirement already satisfied: requests>=2.0.0 in c:\\users\\pc\\appdata\\local\\programs\\python\\python310\\lib\\site-packages (from requests-oauthlib>=0.7.0->google-auth-oauthlib>=0.4.1->gspread) (2.27.1)\n",
      "Collecting oauthlib>=3.0.0\n",
      "  Downloading oauthlib-3.2.0-py3-none-any.whl (151 kB)\n",
      "Requirement already satisfied: charset-normalizer~=2.0.0 in c:\\users\\pc\\appdata\\local\\programs\\python\\python310\\lib\\site-packages (from requests>=2.0.0->requests-oauthlib>=0.7.0->google-auth-oauthlib>=0.4.1->gspread) (2.0.11)\n",
      "Requirement already satisfied: idna<4,>=2.5 in c:\\users\\pc\\appdata\\local\\programs\\python\\python310\\lib\\site-packages (from requests>=2.0.0->requests-oauthlib>=0.7.0->google-auth-oauthlib>=0.4.1->gspread) (3.3)\n",
      "Requirement already satisfied: certifi>=2017.4.17 in c:\\users\\pc\\appdata\\local\\programs\\python\\python310\\lib\\site-packages (from requests>=2.0.0->requests-oauthlib>=0.7.0->google-auth-oauthlib>=0.4.1->gspread) (2021.10.8)\n",
      "Requirement already satisfied: urllib3<1.27,>=1.21.1 in c:\\users\\pc\\appdata\\local\\programs\\python\\python310\\lib\\site-packages (from requests>=2.0.0->requests-oauthlib>=0.7.0->google-auth-oauthlib>=0.4.1->gspread) (1.26.8)\n",
      "Installing collected packages: oauthlib, requests-oauthlib, google-auth-oauthlib, gspread\n",
      "Successfully installed google-auth-oauthlib-0.4.6 gspread-5.1.1 oauthlib-3.2.0 requests-oauthlib-1.3.1\n"
     ]
    },
    {
     "name": "stderr",
     "output_type": "stream",
     "text": [
      "WARNING: You are using pip version 21.3.1; however, version 22.0.3 is available.\n",
      "You should consider upgrading via the 'C:\\Users\\pc\\AppData\\Local\\Programs\\Python\\Python310\\python.exe -m pip install --upgrade pip' command.\n"
     ]
    },
    {
     "name": "stdout",
     "output_type": "stream",
     "text": [
      "Requirement already satisfied: google-api-python-client in c:\\users\\pc\\appdata\\local\\programs\\python\\python310\\lib\\site-packages (2.37.0)\n",
      "Collecting oauth2client\n",
      "  Downloading oauth2client-4.1.3-py2.py3-none-any.whl (98 kB)\n",
      "Requirement already satisfied: google-auth<3.0.0dev,>=1.16.0 in c:\\users\\pc\\appdata\\local\\programs\\python\\python310\\lib\\site-packages (from google-api-python-client) (2.6.0)\n",
      "Requirement already satisfied: httplib2<1dev,>=0.15.0 in c:\\users\\pc\\appdata\\local\\programs\\python\\python310\\lib\\site-packages (from google-api-python-client) (0.20.4)\n",
      "Requirement already satisfied: uritemplate<5,>=3.0.1 in c:\\users\\pc\\appdata\\local\\programs\\python\\python310\\lib\\site-packages (from google-api-python-client) (4.1.1)\n",
      "Requirement already satisfied: google-auth-httplib2>=0.1.0 in c:\\users\\pc\\appdata\\local\\programs\\python\\python310\\lib\\site-packages (from google-api-python-client) (0.1.0)\n",
      "Requirement already satisfied: google-api-core<3.0.0dev,>=1.21.0 in c:\\users\\pc\\appdata\\local\\programs\\python\\python310\\lib\\site-packages (from google-api-python-client) (2.5.0)\n",
      "Requirement already satisfied: rsa>=3.1.4 in c:\\users\\pc\\appdata\\local\\programs\\python\\python310\\lib\\site-packages (from oauth2client) (4.8)\n",
      "Requirement already satisfied: pyasn1>=0.1.7 in c:\\users\\pc\\appdata\\local\\programs\\python\\python310\\lib\\site-packages (from oauth2client) (0.4.8)\n",
      "Requirement already satisfied: pyasn1-modules>=0.0.5 in c:\\users\\pc\\appdata\\local\\programs\\python\\python310\\lib\\site-packages (from oauth2client) (0.2.8)\n",
      "Requirement already satisfied: six>=1.6.1 in c:\\users\\pc\\appdata\\local\\programs\\python\\python310\\lib\\site-packages (from oauth2client) (1.16.0)\n",
      "Requirement already satisfied: googleapis-common-protos<2.0dev,>=1.52.0 in c:\\users\\pc\\appdata\\local\\programs\\python\\python310\\lib\\site-packages (from google-api-core<3.0.0dev,>=1.21.0->google-api-python-client) (1.54.0)\n",
      "Requirement already satisfied: requests<3.0.0dev,>=2.18.0 in c:\\users\\pc\\appdata\\local\\programs\\python\\python310\\lib\\site-packages (from google-api-core<3.0.0dev,>=1.21.0->google-api-python-client) (2.27.1)\n",
      "Requirement already satisfied: protobuf>=3.12.0 in c:\\users\\pc\\appdata\\local\\programs\\python\\python310\\lib\\site-packages (from google-api-core<3.0.0dev,>=1.21.0->google-api-python-client) (3.19.4)\n",
      "Requirement already satisfied: cachetools<6.0,>=2.0.0 in c:\\users\\pc\\appdata\\local\\programs\\python\\python310\\lib\\site-packages (from google-auth<3.0.0dev,>=1.16.0->google-api-python-client) (5.0.0)\n",
      "Requirement already satisfied: pyparsing!=3.0.0,!=3.0.1,!=3.0.2,!=3.0.3,<4,>=2.4.2 in c:\\users\\pc\\appdata\\local\\programs\\python\\python310\\lib\\site-packages (from httplib2<1dev,>=0.15.0->google-api-python-client) (3.0.7)\n",
      "Requirement already satisfied: charset-normalizer~=2.0.0 in c:\\users\\pc\\appdata\\local\\programs\\python\\python310\\lib\\site-packages (from requests<3.0.0dev,>=2.18.0->google-api-core<3.0.0dev,>=1.21.0->google-api-python-client) (2.0.11)\n",
      "Requirement already satisfied: idna<4,>=2.5 in c:\\users\\pc\\appdata\\local\\programs\\python\\python310\\lib\\site-packages (from requests<3.0.0dev,>=2.18.0->google-api-core<3.0.0dev,>=1.21.0->google-api-python-client) (3.3)\n",
      "Requirement already satisfied: certifi>=2017.4.17 in c:\\users\\pc\\appdata\\local\\programs\\python\\python310\\lib\\site-packages (from requests<3.0.0dev,>=2.18.0->google-api-core<3.0.0dev,>=1.21.0->google-api-python-client) (2021.10.8)\n",
      "Requirement already satisfied: urllib3<1.27,>=1.21.1 in c:\\users\\pc\\appdata\\local\\programs\\python\\python310\\lib\\site-packages (from requests<3.0.0dev,>=2.18.0->google-api-core<3.0.0dev,>=1.21.0->google-api-python-client) (1.26.8)\n",
      "Installing collected packages: oauth2client\n",
      "Successfully installed oauth2client-4.1.3\n"
     ]
    },
    {
     "name": "stderr",
     "output_type": "stream",
     "text": [
      "WARNING: You are using pip version 21.3.1; however, version 22.0.3 is available.\n",
      "You should consider upgrading via the 'C:\\Users\\pc\\AppData\\Local\\Programs\\Python\\Python310\\python.exe -m pip install --upgrade pip' command.\n"
     ]
    }
   ],
   "source": [
    "!pip install gspread\n",
    "!pip install --upgrade google-api-python-client oauth2client"
   ]
  },
  {
   "cell_type": "code",
   "execution_count": 2,
   "id": "a2227f5d",
   "metadata": {},
   "outputs": [],
   "source": [
    "import gspread\n",
    "import pandas as pd\n",
    "from oauth2client.service_account import ServiceAccountCredentials"
   ]
  },
  {
   "cell_type": "code",
   "execution_count": 24,
   "id": "f28eebda",
   "metadata": {},
   "outputs": [
    {
     "data": {
      "text/plain": [
       "<gspread.client.Client at 0x242942a4c70>"
      ]
     },
     "execution_count": 24,
     "metadata": {},
     "output_type": "execute_result"
    }
   ],
   "source": [
    "scope = ['https://spreadsheets.google.com/feeds',\n",
    "         'https://www.googleapis.com/auth/drive',\n",
    "        ]\n",
    "\n",
    "jfile = 'client_secrets.json'\n",
    "\n",
    "creds = ServiceAccountCredentials.from_json_keyfile_name(jfile, scope)\n",
    "\n",
    "\n",
    "client = gspread.authorize(creds)\n",
    "client"
   ]
  },
  {
   "cell_type": "code",
   "execution_count": 25,
   "id": "ec21e610",
   "metadata": {},
   "outputs": [
    {
     "name": "stdout",
     "output_type": "stream",
     "text": [
      "Help on Client in module gspread.client object:\n",
      "\n",
      "class Client(builtins.object)\n",
      " |  Client(auth, session=None)\n",
      " |  \n",
      " |  An instance of this class communicates with Google API.\n",
      " |  \n",
      " |  :param auth: An OAuth2 credential object. Credential objects\n",
      " |      created by `google-auth <https://github.com/googleapis/google-auth-library-python>`_.\n",
      " |  \n",
      " |  :param session: (optional) A session object capable of making HTTP requests\n",
      " |      while persisting some parameters across requests.\n",
      " |      Defaults to `google.auth.transport.requests.AuthorizedSession <https://google-auth.readthedocs.io/en/latest/reference/google.auth.transport.requests.html#google.auth.transport.requests.AuthorizedSession>`_.\n",
      " |  \n",
      " |  >>> c = gspread.Client(auth=OAuthCredentialObject)\n",
      " |  \n",
      " |  Methods defined here:\n",
      " |  \n",
      " |  __init__(self, auth, session=None)\n",
      " |      Initialize self.  See help(type(self)) for accurate signature.\n",
      " |  \n",
      " |  copy(self, file_id, title=None, copy_permissions=False, folder_id=None)\n",
      " |      Copies a spreadsheet.\n",
      " |      \n",
      " |      :param str file_id: A key of a spreadsheet to copy.\n",
      " |      :param str title: (optional) A title for the new spreadsheet.\n",
      " |      \n",
      " |      :param bool copy_permissions: (optional) If True, copy permissions from\n",
      " |          the original spreadsheet to the new spreadsheet.\n",
      " |      \n",
      " |      :param str folder_id: Id of the folder where we want to save\n",
      " |          the spreadsheet.\n",
      " |      \n",
      " |      :returns: a :class:`~gspread.models.Spreadsheet` instance.\n",
      " |      \n",
      " |      .. versionadded:: 3.1.0\n",
      " |      \n",
      " |      .. note::\n",
      " |      \n",
      " |         If you're using custom credentials without the Drive scope, you need to add\n",
      " |         ``https://www.googleapis.com/auth/drive`` to your OAuth scope in order to use\n",
      " |         this method.\n",
      " |      \n",
      " |         Example::\n",
      " |      \n",
      " |            scope = [\n",
      " |                'https://www.googleapis.com/auth/spreadsheets',\n",
      " |                'https://www.googleapis.com/auth/drive'\n",
      " |            ]\n",
      " |      \n",
      " |         Otherwise, you will get an ``Insufficient Permission`` error\n",
      " |         when you try to copy a spreadsheet.\n",
      " |  \n",
      " |  create(self, title, folder_id=None)\n",
      " |      Creates a new spreadsheet.\n",
      " |      \n",
      " |      :param str title: A title of a new spreadsheet.\n",
      " |      \n",
      " |      :param str folder_id: Id of the folder where we want to save\n",
      " |          the spreadsheet.\n",
      " |      \n",
      " |      :returns: a :class:`~gspread.models.Spreadsheet` instance.\n",
      " |  \n",
      " |  del_spreadsheet(self, file_id)\n",
      " |      Deletes a spreadsheet.\n",
      " |      \n",
      " |      :param str file_id: a spreadsheet ID (a.k.a file ID).\n",
      " |  \n",
      " |  import_csv(self, file_id, data)\n",
      " |      Imports data into the first page of the spreadsheet.\n",
      " |      \n",
      " |      :param str data: A CSV string of data.\n",
      " |      \n",
      " |      Example:\n",
      " |      \n",
      " |      .. code::\n",
      " |      \n",
      " |          # Read CSV file contents\n",
      " |          content = open('file_to_import.csv', 'r').read()\n",
      " |      \n",
      " |          gc.import_csv(spreadsheet.id, content)\n",
      " |      \n",
      " |      .. note::\n",
      " |      \n",
      " |         This method removes all other worksheets and then entirely\n",
      " |         replaces the contents of the first worksheet.\n",
      " |  \n",
      " |  insert_permission(self, file_id, value, perm_type, role, notify=True, email_message=None, with_link=False)\n",
      " |      Creates a new permission for a file.\n",
      " |      \n",
      " |      :param str file_id: a spreadsheet ID (aka file ID).\n",
      " |      :param value: user or group e-mail address, domain name\n",
      " |          or None for 'default' type.\n",
      " |      :type value: str, None\n",
      " |      :param str perm_type: (optional) The account type.\n",
      " |          Allowed values are: ``user``, ``group``, ``domain``, ``anyone``\n",
      " |      :param str role: (optional) The primary role for this user.\n",
      " |          Allowed values are: ``owner``, ``writer``, ``reader``\n",
      " |      :param str notify: (optional) Whether to send an email to the target\n",
      " |          user/domain.\n",
      " |      :param str email_message: (optional) An email message to be sent\n",
      " |          if ``notify=True``.\n",
      " |      :param bool with_link: (optional) Whether the link is required for this\n",
      " |          permission to be active.\n",
      " |      \n",
      " |      Examples::\n",
      " |      \n",
      " |          # Give write permissions to otto@example.com\n",
      " |      \n",
      " |          gc.insert_permission(\n",
      " |              '0BmgG6nO_6dprnRRUWl1UFE',\n",
      " |              'otto@example.org',\n",
      " |              perm_type='user',\n",
      " |              role='writer'\n",
      " |          )\n",
      " |      \n",
      " |          # Make the spreadsheet publicly readable\n",
      " |      \n",
      " |          gc.insert_permission(\n",
      " |              '0BmgG6nO_6dprnRRUWl1UFE',\n",
      " |              None,\n",
      " |              perm_type='anyone',\n",
      " |              role='reader'\n",
      " |          )\n",
      " |  \n",
      " |  list_permissions(self, file_id)\n",
      " |      Retrieve a list of permissions for a file.\n",
      " |      \n",
      " |      :param str file_id: a spreadsheet ID (aka file ID).\n",
      " |  \n",
      " |  list_spreadsheet_files(self, title=None, folder_id=None)\n",
      " |  \n",
      " |  login(self)\n",
      " |  \n",
      " |  open(self, title, folder_id=None)\n",
      " |      Opens a spreadsheet.\n",
      " |      \n",
      " |      :param str title: A title of a spreadsheet.\n",
      " |      :param str folder_id: (optional) If specified can be used to filter\n",
      " |          spreadsheets by parent folder ID.\n",
      " |      :returns: a :class:`~gspread.models.Spreadsheet` instance.\n",
      " |      \n",
      " |      If there's more than one spreadsheet with same title the first one\n",
      " |      will be opened.\n",
      " |      \n",
      " |      :raises gspread.SpreadsheetNotFound: if no spreadsheet with\n",
      " |                                           specified `title` is found.\n",
      " |      \n",
      " |      >>> gc.open('My fancy spreadsheet')\n",
      " |  \n",
      " |  open_by_key(self, key)\n",
      " |      Opens a spreadsheet specified by `key` (a.k.a Spreadsheet ID).\n",
      " |      \n",
      " |      :param str key: A key of a spreadsheet as it appears in a URL in a browser.\n",
      " |      :returns: a :class:`~gspread.models.Spreadsheet` instance.\n",
      " |      \n",
      " |      >>> gc.open_by_key('0BmgG6nO_6dprdS1MN3d3MkdPa142WFRrdnRRUWl1UFE')\n",
      " |  \n",
      " |  open_by_url(self, url)\n",
      " |      Opens a spreadsheet specified by `url`.\n",
      " |      \n",
      " |      :param str url: URL of a spreadsheet as it appears in a browser.\n",
      " |      \n",
      " |      :returns: a :class:`~gspread.models.Spreadsheet` instance.\n",
      " |      \n",
      " |      :raises gspread.SpreadsheetNotFound: if no spreadsheet with\n",
      " |                                           specified `url` is found.\n",
      " |      \n",
      " |      >>> gc.open_by_url('https://docs.google.com/spreadsheet/ccc?key=0Bm...FE&hl')\n",
      " |  \n",
      " |  openall(self, title=None)\n",
      " |      Opens all available spreadsheets.\n",
      " |      \n",
      " |      :param str title: (optional) If specified can be used to filter\n",
      " |          spreadsheets by title.\n",
      " |      \n",
      " |      :returns: a list of :class:`~gspread.models.Spreadsheet` instances.\n",
      " |  \n",
      " |  remove_permission(self, file_id, permission_id)\n",
      " |      Deletes a permission from a file.\n",
      " |      \n",
      " |      :param str file_id: a spreadsheet ID (aka file ID.)\n",
      " |      :param str permission_id: an ID for the permission.\n",
      " |  \n",
      " |  request(self, method, endpoint, params=None, data=None, json=None, files=None, headers=None)\n",
      " |  \n",
      " |  ----------------------------------------------------------------------\n",
      " |  Data descriptors defined here:\n",
      " |  \n",
      " |  __dict__\n",
      " |      dictionary for instance variables (if defined)\n",
      " |  \n",
      " |  __weakref__\n",
      " |      list of weak references to the object (if defined)\n",
      "\n"
     ]
    }
   ],
   "source": [
    "help(client)"
   ]
  },
  {
   "cell_type": "code",
   "execution_count": 26,
   "id": "618ff998",
   "metadata": {},
   "outputs": [
    {
     "data": {
      "text/plain": [
       "[<Spreadsheet 'Party Invite (Responses)' id:119g0IDW4ZgNbqo3K8ZRTqHrnprO5vLWBX4AKRi99LH4>]"
      ]
     },
     "execution_count": 26,
     "metadata": {},
     "output_type": "execute_result"
    }
   ],
   "source": [
    "coall = client.openall()\n",
    "coall"
   ]
  },
  {
   "cell_type": "code",
   "execution_count": 27,
   "id": "d46c81e8",
   "metadata": {},
   "outputs": [
    {
     "data": {
      "text/plain": [
       "<Spreadsheet 'Party Invite (Responses)' id:119g0IDW4ZgNbqo3K8ZRTqHrnprO5vLWBX4AKRi99LH4>"
      ]
     },
     "execution_count": 27,
     "metadata": {},
     "output_type": "execute_result"
    }
   ],
   "source": [
    "sheet = client.open_by_url('https://docs.google.com/spreadsheets/d/119g0IDW4ZgNbqo3K8ZRTqHrnprO5vLWBX4AKRi99LH4/edit?resourcekey#gid=1503146769')\n",
    "sheet"
   ]
  },
  {
   "cell_type": "code",
   "execution_count": 28,
   "id": "5f8a8ab5",
   "metadata": {},
   "outputs": [
    {
     "data": {
      "text/plain": [
       "<Worksheet 'Form Responses 1' id:1503146769>"
      ]
     },
     "execution_count": 28,
     "metadata": {},
     "output_type": "execute_result"
    }
   ],
   "source": [
    "sheet_instance = sheet.get_worksheet(0)\n",
    "sheet_instance"
   ]
  },
  {
   "cell_type": "code",
   "execution_count": 29,
   "id": "2beed75c",
   "metadata": {},
   "outputs": [
    {
     "data": {
      "text/plain": [
       "104"
      ]
     },
     "execution_count": 29,
     "metadata": {},
     "output_type": "execute_result"
    }
   ],
   "source": [
    "sheet_instance.row_count"
   ]
  },
  {
   "cell_type": "code",
   "execution_count": 30,
   "id": "a175ab47",
   "metadata": {},
   "outputs": [
    {
     "data": {
      "text/plain": [
       "14"
      ]
     },
     "execution_count": 30,
     "metadata": {},
     "output_type": "execute_result"
    }
   ],
   "source": [
    "sheet_instance.col_count"
   ]
  },
  {
   "cell_type": "code",
   "execution_count": 31,
   "id": "ac55ca74",
   "metadata": {},
   "outputs": [
    {
     "data": {
      "text/plain": [
       "<Cell R11C3 None>"
      ]
     },
     "execution_count": 31,
     "metadata": {},
     "output_type": "execute_result"
    }
   ],
   "source": [
    "sheet_instance.cell(col=3,row=11)"
   ]
  },
  {
   "cell_type": "code",
   "execution_count": 32,
   "id": "bfd63433",
   "metadata": {},
   "outputs": [
    {
     "data": {
      "text/plain": [
       "[{'Timestamp': '2/12/2022 15:16:42',\n",
       "  'Party Dress Code': 'shorts',\n",
       "  'What is your name?': 'Vicky Kumar',\n",
       "  'Can you attend?': \"Yes,  I'll be there\",\n",
       "  'How many of you are attending?': 3,\n",
       "  'What will you be bringing?': 'Dessert',\n",
       "  'Do you have any allergies or dietary restrictions?': 'no',\n",
       "  'What is your email address?': 'imvickykumar999@gmail.com'},\n",
       " {'Timestamp': '2/12/2022 15:17:20',\n",
       "  'Party Dress Code': 'sbki mrziii rhegii',\n",
       "  'What is your name?': 'Gurl',\n",
       "  'Can you attend?': \"Yes,  I'll be there\",\n",
       "  'How many of you are attending?': 'whole riet',\n",
       "  'What will you be bringing?': 'Mains, Salad, Dessert, Drinks, Sides/Appetizers, pizza',\n",
       "  'Do you have any allergies or dietary restrictions?': 'nah nah ',\n",
       "  'What is your email address?': '20erecs018.ayushi@gmai.com'},\n",
       " {'Timestamp': '2/12/2022 15:18:13',\n",
       "  'Party Dress Code': 'chaddi baniyan',\n",
       "  'What is your name?': 'kya karoge janke',\n",
       "  'Can you attend?': \"Sorry, can't make it\",\n",
       "  'How many of you are attending?': 6666666,\n",
       "  'What will you be bringing?': 'Mains, Drinks, chakhna',\n",
       "  'Do you have any allergies or dietary restrictions?': 'pine k baad dekhte h',\n",
       "  'What is your email address?': 'akashverma8569@gmail.com'}]"
      ]
     },
     "execution_count": 32,
     "metadata": {},
     "output_type": "execute_result"
    }
   ],
   "source": [
    "records_data = sheet_instance.get_all_records()\n",
    "\n",
    "records_data"
   ]
  },
  {
   "cell_type": "code",
   "execution_count": 35,
   "id": "08aeeda2",
   "metadata": {},
   "outputs": [
    {
     "data": {
      "text/html": [
       "<div>\n",
       "<style scoped>\n",
       "    .dataframe tbody tr th:only-of-type {\n",
       "        vertical-align: middle;\n",
       "    }\n",
       "\n",
       "    .dataframe tbody tr th {\n",
       "        vertical-align: top;\n",
       "    }\n",
       "\n",
       "    .dataframe thead th {\n",
       "        text-align: right;\n",
       "    }\n",
       "</style>\n",
       "<table border=\"1\" class=\"dataframe\">\n",
       "  <thead>\n",
       "    <tr style=\"text-align: right;\">\n",
       "      <th></th>\n",
       "      <th>Timestamp</th>\n",
       "      <th>Party Dress Code</th>\n",
       "      <th>What is your name?</th>\n",
       "      <th>Can you attend?</th>\n",
       "      <th>How many of you are attending?</th>\n",
       "      <th>What will you be bringing?</th>\n",
       "      <th>Do you have any allergies or dietary restrictions?</th>\n",
       "      <th>What is your email address?</th>\n",
       "    </tr>\n",
       "  </thead>\n",
       "  <tbody>\n",
       "    <tr>\n",
       "      <th>0</th>\n",
       "      <td>2/12/2022 15:16:42</td>\n",
       "      <td>shorts</td>\n",
       "      <td>Vicky Kumar</td>\n",
       "      <td>Yes,  I'll be there</td>\n",
       "      <td>3</td>\n",
       "      <td>Dessert</td>\n",
       "      <td>no</td>\n",
       "      <td>imvickykumar999@gmail.com</td>\n",
       "    </tr>\n",
       "    <tr>\n",
       "      <th>1</th>\n",
       "      <td>2/12/2022 15:17:20</td>\n",
       "      <td>sbki mrziii rhegii</td>\n",
       "      <td>Gurl</td>\n",
       "      <td>Yes,  I'll be there</td>\n",
       "      <td>whole riet</td>\n",
       "      <td>Mains, Salad, Dessert, Drinks, Sides/Appetizer...</td>\n",
       "      <td>nah nah</td>\n",
       "      <td>20erecs018.ayushi@gmai.com</td>\n",
       "    </tr>\n",
       "    <tr>\n",
       "      <th>2</th>\n",
       "      <td>2/12/2022 15:18:13</td>\n",
       "      <td>chaddi baniyan</td>\n",
       "      <td>kya karoge janke</td>\n",
       "      <td>Sorry, can't make it</td>\n",
       "      <td>6666666</td>\n",
       "      <td>Mains, Drinks, chakhna</td>\n",
       "      <td>pine k baad dekhte h</td>\n",
       "      <td>akashverma8569@gmail.com</td>\n",
       "    </tr>\n",
       "  </tbody>\n",
       "</table>\n",
       "</div>"
      ],
      "text/plain": [
       "            Timestamp    Party Dress Code What is your name?  \\\n",
       "0  2/12/2022 15:16:42              shorts        Vicky Kumar   \n",
       "1  2/12/2022 15:17:20  sbki mrziii rhegii               Gurl   \n",
       "2  2/12/2022 15:18:13      chaddi baniyan   kya karoge janke   \n",
       "\n",
       "        Can you attend? How many of you are attending?  \\\n",
       "0   Yes,  I'll be there                              3   \n",
       "1   Yes,  I'll be there                     whole riet   \n",
       "2  Sorry, can't make it                        6666666   \n",
       "\n",
       "                          What will you be bringing?  \\\n",
       "0                                            Dessert   \n",
       "1  Mains, Salad, Dessert, Drinks, Sides/Appetizer...   \n",
       "2                             Mains, Drinks, chakhna   \n",
       "\n",
       "  Do you have any allergies or dietary restrictions?  \\\n",
       "0                                                 no   \n",
       "1                                           nah nah    \n",
       "2                               pine k baad dekhte h   \n",
       "\n",
       "  What is your email address?  \n",
       "0   imvickykumar999@gmail.com  \n",
       "1  20erecs018.ayushi@gmai.com  \n",
       "2    akashverma8569@gmail.com  "
      ]
     },
     "execution_count": 35,
     "metadata": {},
     "output_type": "execute_result"
    }
   ],
   "source": [
    "records_df = pd.DataFrame(records_data)\n",
    "#records_df.head() use for staring five entries\n",
    "records_df"
   ]
  },
  {
   "cell_type": "code",
   "execution_count": 37,
   "id": "59f7342a",
   "metadata": {},
   "outputs": [
    {
     "data": {
      "text/plain": [
       "[{'id': '17649991771986030562',\n",
       "  'name': 'spreadsheet@spreadsheet-341108.iam.gserviceaccount.com',\n",
       "  'type': 'user',\n",
       "  'role': 'writer',\n",
       "  'kind': 'drive#permission',\n",
       "  'photoLink': 'https://lh3.googleusercontent.com/a/default-user=s64',\n",
       "  'selfLink': 'https://www.googleapis.com/drive/v2/files/119g0IDW4ZgNbqo3K8ZRTqHrnprO5vLWBX4AKRi99LH4/permissions/17649991771986030562',\n",
       "  'emailAddress': 'spreadsheet@spreadsheet-341108.iam.gserviceaccount.com',\n",
       "  'domain': 'spreadsheet-341108.iam.gserviceaccount.com',\n",
       "  'etag': '\"N6YZOmbcONA_gAJfgF1_VemOu48\"',\n",
       "  'deleted': False,\n",
       "  'pendingOwner': False},\n",
       " {'id': '15417903296187768135',\n",
       "  'name': 'Ayushii Agarwal',\n",
       "  'type': 'user',\n",
       "  'role': 'reader',\n",
       "  'additionalRoles': ['commenter'],\n",
       "  'kind': 'drive#permission',\n",
       "  'photoLink': 'https://lh3.googleusercontent.com/a/default-user=s64',\n",
       "  'selfLink': 'https://www.googleapis.com/drive/v2/files/119g0IDW4ZgNbqo3K8ZRTqHrnprO5vLWBX4AKRi99LH4/permissions/15417903296187768135',\n",
       "  'emailAddress': 'ayu4shi8@gmail.com',\n",
       "  'domain': 'gmail.com',\n",
       "  'etag': '\"XcqC_Wx-ibfoqw6ZRK2cLnCsZ8E\"',\n",
       "  'deleted': False,\n",
       "  'pendingOwner': False},\n",
       " {'id': '15180927550740029502',\n",
       "  'name': 'AAKASH Verma',\n",
       "  'type': 'user',\n",
       "  'role': 'owner',\n",
       "  'kind': 'drive#permission',\n",
       "  'photoLink': 'https://lh3.googleusercontent.com/a-/AOh14GhXMXrcCX-lgGIsjX36m-K0w7OmIUUgJiVTHL4X=s64',\n",
       "  'selfLink': 'https://www.googleapis.com/drive/v2/files/119g0IDW4ZgNbqo3K8ZRTqHrnprO5vLWBX4AKRi99LH4/permissions/15180927550740029502',\n",
       "  'emailAddress': 'akashverma8569@gmail.com',\n",
       "  'domain': 'gmail.com',\n",
       "  'etag': '\"DcLgxS3T_0NIBeclVwf4W_i9VPg\"',\n",
       "  'deleted': False,\n",
       "  'pendingOwner': False}]"
      ]
     },
     "execution_count": 37,
     "metadata": {},
     "output_type": "execute_result"
    }
   ],
   "source": [
    "per = sheet.list_permissions()\n",
    "per"
   ]
  },
  {
   "cell_type": "code",
   "execution_count": 38,
   "id": "eaa6bacf",
   "metadata": {},
   "outputs": [
    {
     "data": {
      "text/html": [
       "<div>\n",
       "<style scoped>\n",
       "    .dataframe tbody tr th:only-of-type {\n",
       "        vertical-align: middle;\n",
       "    }\n",
       "\n",
       "    .dataframe tbody tr th {\n",
       "        vertical-align: top;\n",
       "    }\n",
       "\n",
       "    .dataframe thead th {\n",
       "        text-align: right;\n",
       "    }\n",
       "</style>\n",
       "<table border=\"1\" class=\"dataframe\">\n",
       "  <thead>\n",
       "    <tr style=\"text-align: right;\">\n",
       "      <th></th>\n",
       "      <th>id</th>\n",
       "      <th>name</th>\n",
       "      <th>type</th>\n",
       "      <th>role</th>\n",
       "      <th>kind</th>\n",
       "      <th>photoLink</th>\n",
       "      <th>selfLink</th>\n",
       "      <th>emailAddress</th>\n",
       "      <th>domain</th>\n",
       "      <th>etag</th>\n",
       "      <th>deleted</th>\n",
       "      <th>pendingOwner</th>\n",
       "      <th>additionalRoles</th>\n",
       "    </tr>\n",
       "  </thead>\n",
       "  <tbody>\n",
       "    <tr>\n",
       "      <th>0</th>\n",
       "      <td>17649991771986030562</td>\n",
       "      <td>spreadsheet@spreadsheet-341108.iam.gserviceacc...</td>\n",
       "      <td>user</td>\n",
       "      <td>writer</td>\n",
       "      <td>drive#permission</td>\n",
       "      <td>https://lh3.googleusercontent.com/a/default-us...</td>\n",
       "      <td>https://www.googleapis.com/drive/v2/files/119g...</td>\n",
       "      <td>spreadsheet@spreadsheet-341108.iam.gserviceacc...</td>\n",
       "      <td>spreadsheet-341108.iam.gserviceaccount.com</td>\n",
       "      <td>\"N6YZOmbcONA_gAJfgF1_VemOu48\"</td>\n",
       "      <td>False</td>\n",
       "      <td>False</td>\n",
       "      <td>NaN</td>\n",
       "    </tr>\n",
       "    <tr>\n",
       "      <th>1</th>\n",
       "      <td>15417903296187768135</td>\n",
       "      <td>Ayushii Agarwal</td>\n",
       "      <td>user</td>\n",
       "      <td>reader</td>\n",
       "      <td>drive#permission</td>\n",
       "      <td>https://lh3.googleusercontent.com/a/default-us...</td>\n",
       "      <td>https://www.googleapis.com/drive/v2/files/119g...</td>\n",
       "      <td>ayu4shi8@gmail.com</td>\n",
       "      <td>gmail.com</td>\n",
       "      <td>\"XcqC_Wx-ibfoqw6ZRK2cLnCsZ8E\"</td>\n",
       "      <td>False</td>\n",
       "      <td>False</td>\n",
       "      <td>[commenter]</td>\n",
       "    </tr>\n",
       "    <tr>\n",
       "      <th>2</th>\n",
       "      <td>15180927550740029502</td>\n",
       "      <td>AAKASH Verma</td>\n",
       "      <td>user</td>\n",
       "      <td>owner</td>\n",
       "      <td>drive#permission</td>\n",
       "      <td>https://lh3.googleusercontent.com/a-/AOh14GhXM...</td>\n",
       "      <td>https://www.googleapis.com/drive/v2/files/119g...</td>\n",
       "      <td>akashverma8569@gmail.com</td>\n",
       "      <td>gmail.com</td>\n",
       "      <td>\"DcLgxS3T_0NIBeclVwf4W_i9VPg\"</td>\n",
       "      <td>False</td>\n",
       "      <td>False</td>\n",
       "      <td>NaN</td>\n",
       "    </tr>\n",
       "  </tbody>\n",
       "</table>\n",
       "</div>"
      ],
      "text/plain": [
       "                     id                                               name  \\\n",
       "0  17649991771986030562  spreadsheet@spreadsheet-341108.iam.gserviceacc...   \n",
       "1  15417903296187768135                                    Ayushii Agarwal   \n",
       "2  15180927550740029502                                       AAKASH Verma   \n",
       "\n",
       "   type    role              kind  \\\n",
       "0  user  writer  drive#permission   \n",
       "1  user  reader  drive#permission   \n",
       "2  user   owner  drive#permission   \n",
       "\n",
       "                                           photoLink  \\\n",
       "0  https://lh3.googleusercontent.com/a/default-us...   \n",
       "1  https://lh3.googleusercontent.com/a/default-us...   \n",
       "2  https://lh3.googleusercontent.com/a-/AOh14GhXM...   \n",
       "\n",
       "                                            selfLink  \\\n",
       "0  https://www.googleapis.com/drive/v2/files/119g...   \n",
       "1  https://www.googleapis.com/drive/v2/files/119g...   \n",
       "2  https://www.googleapis.com/drive/v2/files/119g...   \n",
       "\n",
       "                                        emailAddress  \\\n",
       "0  spreadsheet@spreadsheet-341108.iam.gserviceacc...   \n",
       "1                                 ayu4shi8@gmail.com   \n",
       "2                           akashverma8569@gmail.com   \n",
       "\n",
       "                                       domain                           etag  \\\n",
       "0  spreadsheet-341108.iam.gserviceaccount.com  \"N6YZOmbcONA_gAJfgF1_VemOu48\"   \n",
       "1                                   gmail.com  \"XcqC_Wx-ibfoqw6ZRK2cLnCsZ8E\"   \n",
       "2                                   gmail.com  \"DcLgxS3T_0NIBeclVwf4W_i9VPg\"   \n",
       "\n",
       "   deleted  pendingOwner additionalRoles  \n",
       "0    False         False             NaN  \n",
       "1    False         False     [commenter]  \n",
       "2    False         False             NaN  "
      ]
     },
     "execution_count": 38,
     "metadata": {},
     "output_type": "execute_result"
    }
   ],
   "source": [
    "per_df = pd.DataFrame(per)\n",
    "per_df.head()"
   ]
  },
  {
   "cell_type": "code",
   "execution_count": 39,
   "id": "a5d4bd8d",
   "metadata": {
    "scrolled": true
   },
   "outputs": [
    {
     "data": {
      "text/plain": [
       "[{'id': '17649991771986030562',\n",
       "  'name': 'spreadsheet@spreadsheet-341108.iam.gserviceaccount.com',\n",
       "  'type': 'user',\n",
       "  'role': 'writer',\n",
       "  'kind': 'drive#permission',\n",
       "  'photoLink': 'https://lh3.googleusercontent.com/a/default-user=s64',\n",
       "  'selfLink': 'https://www.googleapis.com/drive/v2/files/119g0IDW4ZgNbqo3K8ZRTqHrnprO5vLWBX4AKRi99LH4/permissions/17649991771986030562',\n",
       "  'emailAddress': 'spreadsheet@spreadsheet-341108.iam.gserviceaccount.com',\n",
       "  'domain': 'spreadsheet-341108.iam.gserviceaccount.com',\n",
       "  'etag': '\"N6YZOmbcONA_gAJfgF1_VemOu48\"',\n",
       "  'deleted': False,\n",
       "  'pendingOwner': False},\n",
       " {'id': '15417903296187768135',\n",
       "  'name': 'Ayushii Agarwal',\n",
       "  'type': 'user',\n",
       "  'role': 'reader',\n",
       "  'additionalRoles': ['commenter'],\n",
       "  'kind': 'drive#permission',\n",
       "  'photoLink': 'https://lh3.googleusercontent.com/a/default-user=s64',\n",
       "  'selfLink': 'https://www.googleapis.com/drive/v2/files/119g0IDW4ZgNbqo3K8ZRTqHrnprO5vLWBX4AKRi99LH4/permissions/15417903296187768135',\n",
       "  'emailAddress': 'ayu4shi8@gmail.com',\n",
       "  'domain': 'gmail.com',\n",
       "  'etag': '\"XcqC_Wx-ibfoqw6ZRK2cLnCsZ8E\"',\n",
       "  'deleted': False,\n",
       "  'pendingOwner': False},\n",
       " {'id': '15180927550740029502',\n",
       "  'name': 'AAKASH Verma',\n",
       "  'type': 'user',\n",
       "  'role': 'owner',\n",
       "  'kind': 'drive#permission',\n",
       "  'photoLink': 'https://lh3.googleusercontent.com/a-/AOh14GhXMXrcCX-lgGIsjX36m-K0w7OmIUUgJiVTHL4X=s64',\n",
       "  'selfLink': 'https://www.googleapis.com/drive/v2/files/119g0IDW4ZgNbqo3K8ZRTqHrnprO5vLWBX4AKRi99LH4/permissions/15180927550740029502',\n",
       "  'emailAddress': 'akashverma8569@gmail.com',\n",
       "  'domain': 'gmail.com',\n",
       "  'etag': '\"DcLgxS3T_0NIBeclVwf4W_i9VPg\"',\n",
       "  'deleted': False,\n",
       "  'pendingOwner': False}]"
      ]
     },
     "execution_count": 39,
     "metadata": {},
     "output_type": "execute_result"
    }
   ],
   "source": [
    "per"
   ]
  },
  {
   "cell_type": "code",
   "execution_count": 40,
   "id": "e0b53245",
   "metadata": {},
   "outputs": [
    {
     "data": {
      "text/plain": [
       "{'id': '17649991771986030562',\n",
       " 'name': 'spreadsheet@spreadsheet-341108.iam.gserviceaccount.com',\n",
       " 'type': 'user',\n",
       " 'role': 'writer',\n",
       " 'kind': 'drive#permission',\n",
       " 'photoLink': 'https://lh3.googleusercontent.com/a/default-user=s64',\n",
       " 'selfLink': 'https://www.googleapis.com/drive/v2/files/119g0IDW4ZgNbqo3K8ZRTqHrnprO5vLWBX4AKRi99LH4/permissions/17649991771986030562',\n",
       " 'emailAddress': 'spreadsheet@spreadsheet-341108.iam.gserviceaccount.com',\n",
       " 'domain': 'spreadsheet-341108.iam.gserviceaccount.com',\n",
       " 'etag': '\"N6YZOmbcONA_gAJfgF1_VemOu48\"',\n",
       " 'deleted': False,\n",
       " 'pendingOwner': False}"
      ]
     },
     "execution_count": 40,
     "metadata": {},
     "output_type": "execute_result"
    }
   ],
   "source": [
    "per[0]"
   ]
  },
  {
   "cell_type": "code",
   "execution_count": 44,
   "id": "9eb0ad11",
   "metadata": {},
   "outputs": [
    {
     "data": {
      "text/plain": [
       "dict_keys(['id', 'name', 'type', 'role', 'kind', 'photoLink', 'selfLink', 'emailAddress', 'domain', 'etag', 'deleted', 'pendingOwner'])"
      ]
     },
     "execution_count": 44,
     "metadata": {},
     "output_type": "execute_result"
    }
   ],
   "source": [
    "per[0].keys()"
   ]
  },
  {
   "cell_type": "code",
   "execution_count": 47,
   "id": "7dc28480",
   "metadata": {},
   "outputs": [
    {
     "data": {
      "text/plain": [
       "'spreadsheet@spreadsheet-341108.iam.gserviceaccount.com'"
      ]
     },
     "execution_count": 47,
     "metadata": {},
     "output_type": "execute_result"
    }
   ],
   "source": [
    "per[0]['emailAddress']"
   ]
  },
  {
   "cell_type": "code",
   "execution_count": 46,
   "id": "913c7d38",
   "metadata": {},
   "outputs": [
    {
     "name": "stdout",
     "output_type": "stream",
     "text": [
      "spreadsheet@spreadsheet-341108.iam.gserviceaccount.com\n",
      "ayu4shi8@gmail.com\n",
      "akashverma8569@gmail.com\n"
     ]
    }
   ],
   "source": [
    "for i in range(len(per)):\n",
    "    print(per[i]['emailAddress'])"
   ]
  },
  {
   "cell_type": "code",
   "execution_count": 52,
   "id": "6a76f221",
   "metadata": {},
   "outputs": [
    {
     "name": "stdout",
     "output_type": "stream",
     "text": [
      "writer spreadsheet@spreadsheet-341108.iam.gserviceaccount.com\n",
      "reader ayu4shi8@gmail.com\n",
      "owner akashverma8569@gmail.com\n"
     ]
    }
   ],
   "source": [
    "for i in range(len(per)):\n",
    "    print(per[i]['role'],per[i]['emailAddress'])"
   ]
  },
  {
   "cell_type": "code",
   "execution_count": 54,
   "id": "b839864e",
   "metadata": {},
   "outputs": [
    {
     "data": {
      "text/plain": [
       "{'spreadsheetId': '119g0IDW4ZgNbqo3K8ZRTqHrnprO5vLWBX4AKRi99LH4',\n",
       " 'updatedRange': \"'Form Responses 1'!A6:H6\",\n",
       " 'updatedRows': 1,\n",
       " 'updatedColumns': 8,\n",
       " 'updatedCells': 8}"
      ]
     },
     "execution_count": 54,
     "metadata": {},
     "output_type": "execute_result"
    }
   ],
   "source": [
    "sheet_instances = sheet.get_worksheet(0)\n",
    "\n",
    "# for new entry by python code\n",
    "\n",
    "entry = ['2/12/2022 15:40:23','punjabi', 'akash', 'yes i will be there', '45','cake', 'nope', 'avvi1203@gmail.com']\n",
    "sheet_instance.update('A6', [entry])"
   ]
  },
  {
   "cell_type": "code",
   "execution_count": 56,
   "id": "365501fd",
   "metadata": {},
   "outputs": [],
   "source": [
    "sheet.share('avi167124@gmail.com', perm_type='user', role='writer')"
   ]
  },
  {
   "cell_type": "code",
   "execution_count": 67,
   "id": "dc7ce249",
   "metadata": {},
   "outputs": [
    {
     "data": {
      "text/plain": [
       "[[2, 3, 4, 5, 6, 7, 8, 9, 10],\n",
       " [4, 6, 8, 10, 12, 14, 16, 18, 20],\n",
       " [6, 9, 12, 15, 18, 21, 24, 27, 30],\n",
       " [8, 12, 16, 20, 24, 28, 32, 36, 40],\n",
       " [10, 15, 20, 25, 30, 35, 40, 45, 50],\n",
       " [12, 18, 24, 30, 36, 42, 48, 54, 60],\n",
       " [14, 21, 28, 35, 42, 49, 56, 63, 70],\n",
       " [16, 24, 32, 40, 48, 56, 64, 72, 80],\n",
       " [18, 27, 36, 45, 54, 63, 72, 81, 90],\n",
       " [20, 30, 40, 50, 60, 70, 80, 90, 100]]"
      ]
     },
     "execution_count": 67,
     "metadata": {},
     "output_type": "execute_result"
    }
   ],
   "source": [
    "pt=[]\n",
    "for j in range(1,11):\n",
    "    t=[]\n",
    "    for i in range(2,11):\n",
    "        # print(i*j)\n",
    "            t.append(i*j)\n",
    "    pt.append(t)\n",
    "pt  "
   ]
  },
  {
   "cell_type": "code",
   "execution_count": 68,
   "id": "ba6b219c",
   "metadata": {},
   "outputs": [
    {
     "data": {
      "text/plain": [
       "{'spreadsheetId': '119g0IDW4ZgNbqo3K8ZRTqHrnprO5vLWBX4AKRi99LH4',\n",
       " 'updatedRange': 'Sheet2!A1:I10',\n",
       " 'updatedRows': 10,\n",
       " 'updatedColumns': 9,\n",
       " 'updatedCells': 90}"
      ]
     },
     "execution_count": 68,
     "metadata": {},
     "output_type": "execute_result"
    }
   ],
   "source": [
    "countable = sheet.get_worksheet(1)\n",
    "\n",
    "# for new entry by python code\n",
    "\n",
    "countable.update('A1', pt)"
   ]
  },
  {
   "cell_type": "code",
   "execution_count": null,
   "id": "c3c23d5b",
   "metadata": {},
   "outputs": [],
   "source": []
  }
 ],
 "metadata": {
  "kernelspec": {
   "display_name": "Python 3 (ipykernel)",
   "language": "python",
   "name": "python3"
  },
  "language_info": {
   "codemirror_mode": {
    "name": "ipython",
    "version": 3
   },
   "file_extension": ".py",
   "mimetype": "text/x-python",
   "name": "python",
   "nbconvert_exporter": "python",
   "pygments_lexer": "ipython3",
   "version": "3.10.2"
  }
 },
 "nbformat": 4,
 "nbformat_minor": 5
}
